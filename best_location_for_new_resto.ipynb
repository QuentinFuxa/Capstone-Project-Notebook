{
    "cells": [
        {
            "metadata": {},
            "cell_type": "code",
            "source": [
                "import pandas as pd\n",
                "import folium\n",
                "import math\n",
                "import seaborn as sns\n",
                "import requests"
            ],
            "execution_count": 1,
            "outputs": []
        },
        {
            "metadata": {},
            "cell_type": "code",
            "source": [
                "resto_df = pd.read_csv('https://raw.githubusercontent.com/QuentinF/IBM-Capstone-Project/master/resto_Paris.csv')"
            ],
            "execution_count": 2,
            "outputs": []
        },
        {
            "metadata": {},
            "cell_type": "markdown",
            "source": [
                "# Here I want to find the bestplace to add a new restaurant\n"
            ]
        },
        {
            "cell_type": "code",
            "execution_count": null,
            "metadata": {},
            "outputs": [],
            "source": [
                "resto_df['local_authority'].value_counts().head(10)"
            ]
        },
        {
            "metadata": {},
            "cell_type": "code",
            "source": [
                "resto_df = resto_df[resto_df['local_authority']=='Paris'].reset_index()"
            ],
            "execution_count": 206,
            "outputs": []
        },
        {
            "metadata": {
                "scrolled": true
            },
            "cell_type": "code",
            "source": [
                "print(resto_df.columns)\n",
                "\n",
                "#converting lat and long to float types else nan for deletion\n",
                "def to_float(x):\n",
                "    try:\n",
                "        out = float(x)\n",
                "    except:\n",
                "        out = math.nan\n",
                "    return out \n",
                "        \n",
                "resto_df['latitude'] = resto_df['latitude'].apply(lambda x: to_float(x))\n",
                "resto_df['longitude'] = resto_df['longitude'].apply(lambda x: to_float(x))\n",
                "\n",
                "resto_df['latitude'].dropna(inplace=True)\n",
                "resto_df['longitude'].dropna(inplace=True)"
            ],
            "execution_count": 207,
            "outputs": [
                {
                    "output_type": "stream",
                    "text": "Index(['level_0', 'index', 'fas_id', 'name', 'address', 'postcode', 'easting',\n       'northing', 'latitude', 'longitude', 'local_authority'],\n      dtype='object')\n",
                    "name": "stdout"
                }
            ]
        },
        {
            "metadata": {},
            "cell_type": "code",
            "source": [
                "resto_df['name'].describe()"
            ],
            "execution_count": 208,
            "outputs": [
                {
                    "output_type": "execute_result",
                    "execution_count": 208,
                    "data": {
                        "text/plain": "count            494\nunique           477\ntop       Revolution\nfreq               4\nName: name, dtype: object"
                    },
                    "metadata": {}
                }
            ]
        },
        {
            "cell_type": "markdown",
            "metadata": {},
            "source": [
                "So we have 22 duplicates"
            ]
        },
        {
            "metadata": {},
            "cell_type": "markdown",
            "source": [
                "#### now let's see the areas where our pubs are located\n",
                "\n",
                "I also want to include a radius of 500m as this is the size I will be limiting my venue search to, I will be using folium.Circle for this"
            ]
        },
        {
            "metadata": {},
            "cell_type": "code",
            "source": [
                "# create map of using latitude and longitude values\n",
                "resto_paris = folium.Map(location=[48.8588536, 2.3120407], zoom_start=12)\n",
                "\n",
                "\n",
                "for lat, lng, name, local in zip(resto_paris['latitude'], resto_paris['longitude'], resto_paris['name'], resto_paris['local_authority']):\n",
                "    label = '{}, {}'.format(name, local)\n",
                "    label = folium.Popup(label, parse_html=True)\n",
                "    folium.Circle(\n",
                "        [lat, lng],\n",
                "        radius=250,\n",
                "        popup=label,\n",
                "        color='blue',\n",
                "        fill=True,\n",
                "        fill_color='#3186cc',\n",
                "        fill_opacity=0.7,\n",
                "        parse_html=False).add_to(pub_map)  \n",
                "    \n",
                "resto_paris"
            ],
            "execution_count": 3,
            "outputs": [
                {
                    "output_type": "execute_result",
                    "data": {
                        "text/plain": "<folium.folium.Map at 0x27f0f804c88>",
                        "text/html": "<div style=\"width:100%;\"><div style=\"position:relative;width:100%;height:0;padding-bottom:60%;\"><span style=\"color:#565656\">Make this Notebook Trusted to load map: File -> Trust Notebook</span><iframe src=\"about:blank\" style=\"position:absolute;width:100%;height:100%;left:0;top:0;border:none !important;\" data-html=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 onload=\"this.contentDocument.open();this.contentDocument.write(atob(this.getAttribute('data-html')));this.contentDocument.close();\" allowfullscreen webkitallowfullscreen mozallowfullscreen></iframe></div></div>"
                    },
                    "metadata": {},
                    "execution_count": 3
                }
            ]
        },
        {
            "metadata": {},
            "cell_type": "code",
            "source": [
                "def getNearbyVenues(names, latitudes, longitudes, radius=500):\n",
                "    \n",
                "    venues_list=[]\n",
                "    for name, lat, lng in zip(names, latitudes, longitudes):\n",
                "#         print(name)\n",
                "            \n",
                "        # create the API request URL\n",
                "        url = 'https://api.foursquare.com/v2/venues/explore?&client_id={}&client_secret={}&v={}&ll={},{}&radius={}&limit={}'.format(\n",
                "            CLIENT_ID, \n",
                "            CLIENT_SECRET, \n",
                "            VERSION, \n",
                "            lat, \n",
                "            lng, \n",
                "            radius, \n",
                "            LIMIT)\n",
                "            \n",
                "        # make the GET request\n",
                "        results = requests.get(url).json()[\"response\"]['groups'][0]['items']\n",
                "        \n",
                "        # return only relevant information for each nearby venue\n",
                "        venues_list.append([(\n",
                "            name, \n",
                "            lat, \n",
                "            lng, \n",
                "            v['venue']['name'], \n",
                "            v['venue']['location']['lat'], \n",
                "            v['venue']['location']['lng'],  \n",
                "            v['venue']['categories'][0]['name']) for v in results])\n",
                "\n",
                "    nearby_venues = pd.DataFrame([item for venue_list in venues_list for item in venue_list])\n",
                "    nearby_venues.columns = ['Neighborhood', \n",
                "                  'Neighborhood Latitude', \n",
                "                  'Neighborhood Longitude', \n",
                "                  'Venue', \n",
                "                  'Venue Latitude', \n",
                "                  'Venue Longitude', \n",
                "                  'Venue Category']\n",
                "    \n",
                "    return(nearby_venues)\n",
                "\n",
                "\n",
                "# \n",
                "\n",
                "nearby_venues = getNearbyVenues(names=restos_paris['name'],\n",
                "                                   latitudes=restos_paris['latitude'],\n",
                "                                   longitudes=restos_paris['longitude']\n",
                "                                  )\n",
                "\n"
            ],
            "execution_count": 154,
            "outputs": []
        },
        {
            "metadata": {},
            "cell_type": "code",
            "source": [
                "#now let's find the pubs with the most restaurants nearby\n",
                "nearby_restaurant_venues_count = nearby_restaurant_venues.groupby(['Neighborhood','Neighborhood Latitude','Neighborhood Longitude'])['Venue Category'].count().sort_values(ascending=False).reset_index()"
            ],
            "execution_count": 189,
            "outputs": []
        },
        {
            "metadata": {},
            "cell_type": "code",
            "source": [
                "nearby_restaurant_venues_count.describe()"
            ],
            "execution_count": 193,
            "outputs": [
                {
                    "output_type": "execute_result",
                    "execution_count": 193,
                    "data": {
                        "text/plain": "       Neighborhood Latitude  Neighborhood Longitude  Venue Category\ncount             285.000000              285.000000      285.000000\nmean               53.406304               -2.960430        2.329825\nstd                 0.019312                0.034597        1.251754\nmin                53.337317               -2.999843        1.000000\n25%                53.400796               -2.982562        1.000000\n50%                53.404676               -2.974052        2.000000\n75%                53.408755               -2.946645        3.000000\nmax                53.472166               -2.834116        6.000000",
                        "text/html": "<div>\n<style scoped>\n    .dataframe tbody tr th:only-of-type {\n        vertical-align: middle;\n    }\n\n    .dataframe tbody tr th {\n        vertical-align: top;\n    }\n\n    .dataframe thead th {\n        text-align: right;\n    }\n</style>\n<table border=\"1\" class=\"dataframe\">\n  <thead>\n    <tr style=\"text-align: right;\">\n      <th></th>\n      <th>Neighborhood Latitude</th>\n      <th>Neighborhood Longitude</th>\n      <th>Venue Category</th>\n    </tr>\n  </thead>\n  <tbody>\n    <tr>\n      <th>count</th>\n      <td>285.000000</td>\n      <td>285.000000</td>\n      <td>285.000000</td>\n    </tr>\n    <tr>\n      <th>mean</th>\n      <td>53.406304</td>\n      <td>-2.960430</td>\n      <td>2.329825</td>\n    </tr>\n    <tr>\n      <th>std</th>\n      <td>0.019312</td>\n      <td>0.034597</td>\n      <td>1.251754</td>\n    </tr>\n    <tr>\n      <th>min</th>\n      <td>53.337317</td>\n      <td>-2.999843</td>\n      <td>1.000000</td>\n    </tr>\n    <tr>\n      <th>25%</th>\n      <td>53.400796</td>\n      <td>-2.982562</td>\n      <td>1.000000</td>\n    </tr>\n    <tr>\n      <th>50%</th>\n      <td>53.404676</td>\n      <td>-2.974052</td>\n      <td>2.000000</td>\n    </tr>\n    <tr>\n      <th>75%</th>\n      <td>53.408755</td>\n      <td>-2.946645</td>\n      <td>3.000000</td>\n    </tr>\n    <tr>\n      <th>max</th>\n      <td>53.472166</td>\n      <td>-2.834116</td>\n      <td>6.000000</td>\n    </tr>\n  </tbody>\n</table>\n</div>"
                    },
                    "metadata": {}
                }
            ]
        },
        {
            "metadata": {},
            "cell_type": "code",
            "source": [
                "#now lets see how our restaurant data is distributed\n",
                "sns.boxplot(data = nearby_restaurant_venues_count[['Neighborhood','Venue Category']], y='Venue Category')"
            ],
            "execution_count": 192,
            "outputs": [
                {
                    "output_type": "execute_result",
                    "execution_count": 192,
                    "data": {
                        "text/plain": "<matplotlib.axes._subplots.AxesSubplot at 0x7f27e5865240>"
                    },
                    "metadata": {}
                },
                {
                    "output_type": "display_data",
                    "data": {
                        "text/plain": "<Figure size 432x288 with 1 Axes>",
                        "image/png": "[encoded data removed]"
                    },
                    "metadata": {
                        "needs_background": "light"
                    }
                }
            ]
        },
        {
            "metadata": {},
            "cell_type": "code",
            "source": [
                "sns.distplot(nearby_restaurant_venues_count[['Venue Category']])"
            ],
            "execution_count": 197,
            "outputs": [
                {
                    "output_type": "execute_result",
                    "execution_count": 197,
                    "data": {
                        "text/plain": "<matplotlib.axes._subplots.AxesSubplot at 0x7f27e573ce10>"
                    },
                    "metadata": {}
                },
                {
                    "output_type": "display_data",
                    "data": {
                        "text/plain": "<Figure size 432x288 with 1 Axes>",
                        "image/png": "[encoded data removed]"
                    },
                    "metadata": {
                        "needs_background": "light"
                    }
                }
            ]
        }
    ],
    "metadata": {
        "kernelspec": {
            "name": "python37664bit19ae88459b744215979a9c19c584c026",
            "display_name": "Python 3.7.6 64-bit",
            "language": "python"
        },
        "language_info": {
            "name": "python",
            "version": "3.7.6-final",
            "mimetype": "text/x-python",
            "codemirror_mode": {
                "name": "ipython",
                "version": 3
            },
            "pygments_lexer": "ipython3",
            "nbconvert_exporter": "python",
            "file_extension": ".py"
        }
    },
    "nbformat": 4,
    "nbformat_minor": 1
}